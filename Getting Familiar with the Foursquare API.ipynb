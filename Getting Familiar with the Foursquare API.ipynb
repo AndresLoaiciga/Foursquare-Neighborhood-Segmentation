{
    "nbformat_minor": 1, 
    "cells": [
        {
            "source": "# Getting Familiar with the Foursquare API", 
            "cell_type": "markdown", 
            "metadata": {
                "collapsed": true
            }
        }, 
        {
            "source": "## Introduction\nIn this notebook I will be learning and exploring how to use the Foursquare API so I can use it more in depth later on. My goals are to construct a URL to send a request to the API and search for specific restuarants, explore geographical location, explore Foursquare users and reviews, and find trending venues around a location. I will be using Folium to vizualize the results on interactive maps.", 
            "cell_type": "markdown", 
            "metadata": {}
        }, 
        {
            "source": "## Table of Contents:\n1. Foursquare API Search Function\n2. Explore a Given Restuarant\n3. Explore a User\n4. Foursquare API Explore Function\n5. Get Trending Venues", 
            "cell_type": "markdown", 
            "metadata": {}
        }, 
        {
            "execution_count": 3, 
            "cell_type": "code", 
            "metadata": {}, 
            "outputs": [
                {
                    "output_type": "stream", 
                    "name": "stdout", 
                    "text": "Fetching package metadata .............\nSolving package specifications: .\n\nPackage plan for installation in environment /opt/conda/envs/DSX-Python35:\n\nThe following NEW packages will be INSTALLED:\n\n    altair:  2.2.2-py35_1 conda-forge\n    branca:  0.3.1-py_0   conda-forge\n    folium:  0.5.0-py_0   conda-forge\n    vincent: 0.4.4-py_1   conda-forge\n\naltair-2.2.2-p 100% |################################| Time: 0:00:00  41.97 MB/s\nbranca-0.3.1-p 100% |################################| Time: 0:00:00  35.38 MB/s\nvincent-0.4.4- 100% |################################| Time: 0:00:00  37.85 MB/s\nfolium-0.5.0-p 100% |################################| Time: 0:00:00  47.54 MB/s\nFolium installed!\n"
                }
            ], 
            "source": "# Import all necessary libraries\nimport requests\nimport pandas as pd\nimport numpy as np\nimport random\n\nfrom geopy.geocoders import Nominatim # Converts address's into latitude and longitude coordinates\n\n# libraries for displaying images\nfrom IPython.display import Image\nfrom IPython.core.display import HTML\n\n# transforming json file into a pandas dataframe library\nfrom pandas.io.json import json_normalize\n\n!conda install -c conda-forge folium=0.5.0 --yes\nimport folium\n\nprint('Folium installed!')"
        }, 
        {
            "source": "## Define Foursquare Credentials and Version", 
            "cell_type": "markdown", 
            "metadata": {}
        }, 
        {
            "execution_count": 4, 
            "cell_type": "code", 
            "metadata": {}, 
            "outputs": [
                {
                    "output_type": "stream", 
                    "name": "stdout", 
                    "text": "Credentails:\nCLIENT_ID: VW4IYSJWZOV5MEUTYKEWPEINY3TZWYE0GJHVKNUQUSJ5DVFW\nCLIENT_SECRET:NORPTKWY0S0MX3LH53PPQPJ410DHEFFJMVU055BAKPE1QAH4\n"
                }
            ], 
            "source": "CLIENT_ID = 'VW4IYSJWZOV5MEUTYKEWPEINY3TZWYE0GJHVKNUQUSJ5DVFW'\nCLIENT_SECRET = 'NORPTKWY0S0MX3LH53PPQPJ410DHEFFJMVU055BAKPE1QAH4'\nVERSION = '20180604'\nLIMIT = 30\nprint('Credentails:')\nprint('CLIENT_ID: ' + CLIENT_ID)\nprint('CLIENT_SECRET:' + CLIENT_SECRET)"
        }, 
        {
            "source": "### I'm going to pretend I'm staying at The Chelsea Hotel and would like to find good restaurants that are close by. I'll start by getting the Hotel's address.", 
            "cell_type": "markdown", 
            "metadata": {}
        }, 
        {
            "execution_count": 36, 
            "cell_type": "code", 
            "metadata": {}, 
            "outputs": [
                {
                    "output_type": "stream", 
                    "name": "stdout", 
                    "text": "40.7443742 -73.9968175\n"
                }
            ], 
            "source": "address = '222 W 23rd St, New York, NY 10011'\n\ngeolocator = Nominatim(user_agent=\"foursquare_agent\")\nlocation = geolocator.geocode(address)\nlatitude = location.latitude\nlongitude = location.longitude\nprint(latitude, longitude)"
        }, 
        {
            "source": "### Search for a specific venue category\n> `https://api.foursquare.com/v2/venues/`**search**`?client_id=`**CLIENT_ID**`&client_secret=`**CLIENT_SECRET**`&ll=`**LATITUDE**`,`**LONGITUDE**`&v=`**VERSION**`&query=`**QUERY**`&radius=`**RADIUS**`&limit=`**LIMIT**", 
            "cell_type": "markdown", 
            "metadata": {}
        }, 
        {
            "source": "### Let's pretend it's lunch time and I am craving Italian food. I will need to query to search for Italian food that is within 500 meters from the Carlton Arms Hotel.", 
            "cell_type": "markdown", 
            "metadata": {}
        }, 
        {
            "execution_count": 37, 
            "cell_type": "code", 
            "metadata": {}, 
            "outputs": [
                {
                    "output_type": "stream", 
                    "name": "stdout", 
                    "text": "Italian .... OK!\n"
                }
            ], 
            "source": "search_query = 'Italian'\nradius = 500\nprint(search_query + ' .... OK!')"
        }, 
        {
            "execution_count": 38, 
            "cell_type": "code", 
            "metadata": {}, 
            "outputs": [
                {
                    "execution_count": 38, 
                    "metadata": {}, 
                    "data": {
                        "text/plain": "'https://api.foursquare.com/v2/venues/search?client_id=VW4IYSJWZOV5MEUTYKEWPEINY3TZWYE0GJHVKNUQUSJ5DVFW&client_secret=NORPTKWY0S0MX3LH53PPQPJ410DHEFFJMVU055BAKPE1QAH4&ll=40.7443742,-73.9968175&v=20180604&query=Italian&radius=500&limit=30'"
                    }, 
                    "output_type": "execute_result"
                }
            ], 
            "source": "# Define the corresponding URL\nurl = 'https://api.foursquare.com/v2/venues/search?client_id={}&client_secret={}&ll={},{}&v={}&query={}&radius={}&limit={}'.format(CLIENT_ID, CLIENT_SECRET, latitude, longitude, VERSION, search_query, radius, LIMIT)\nurl"
        }, 
        {
            "execution_count": 39, 
            "cell_type": "code", 
            "metadata": {}, 
            "outputs": [
                {
                    "execution_count": 39, 
                    "metadata": {}, 
                    "data": {
                        "text/plain": "{'meta': {'code': 200, 'requestId': '5c8951f8dd5797766e495c74'},\n 'response': {'venues': [{'categories': [{'icon': {'prefix': 'https://ss3.4sqi.net/img/categories_v2/food/streetfood_',\n       'suffix': '.png'},\n      'id': '4bf58dd8d48988d1cb941735',\n      'name': 'Food Truck',\n      'pluralName': 'Food Trucks',\n      'primary': True,\n      'shortName': 'Food Truck'}],\n    'hasPerk': False,\n    'id': '4a85a9e7f964a520d3fe1fe3',\n    'location': {'address': 'W 18th St',\n     'cc': 'US',\n     'city': 'New York',\n     'country': 'United States',\n     'crossStreet': '8th Ave',\n     'distance': 108,\n     'formattedAddress': ['W 18th St (8th Ave)',\n      'New York, NY 10011',\n      'United States'],\n     'labeledLatLngs': [{'label': 'display',\n       'lat': 40.744268165756644,\n       'lng': -73.9980991642575}],\n     'lat': 40.744268165756644,\n     'lng': -73.9980991642575,\n     'postalCode': '10011',\n     'state': 'NY'},\n    'name': 'Italian Ice Cart',\n    'referralId': 'v-1552503288'},\n   {'categories': [{'icon': {'prefix': 'https://ss3.4sqi.net/img/categories_v2/food/pizza_',\n       'suffix': '.png'},\n      'id': '4bf58dd8d48988d1ca941735',\n      'name': 'Pizza Place',\n      'pluralName': 'Pizza Places',\n      'primary': True,\n      'shortName': 'Pizza'}],\n    'hasPerk': False,\n    'id': '59cbe33b50a6f0209c7b52c4',\n    'location': {'address': '344 8th Ave',\n     'cc': 'US',\n     'city': 'New York',\n     'country': 'United States',\n     'crossStreet': '26th & 27th  Sts',\n     'distance': 332,\n     'formattedAddress': ['344 8th Ave (26th & 27th  Sts)',\n      'New York, NY 10001',\n      'United States'],\n     'labeledLatLngs': [{'label': 'display',\n       'lat': 40.747358,\n       'lng': -73.996907}],\n     'lat': 40.747358,\n     'lng': -73.996907,\n     'postalCode': '10001',\n     'state': 'NY'},\n    'name': 'Claudio Italian Restaurant',\n    'referralId': 'v-1552503288'},\n   {'categories': [{'icon': {'prefix': 'https://ss3.4sqi.net/img/categories_v2/food/deli_',\n       'suffix': '.png'},\n      'id': '4bf58dd8d48988d1c5941735',\n      'name': 'Sandwich Place',\n      'pluralName': 'Sandwich Places',\n      'primary': True,\n      'shortName': 'Sandwiches'}],\n    'hasPerk': False,\n    'id': '5c893ef0d8096e0039e7363b',\n    'location': {'address': '124 W 25th St',\n     'cc': 'US',\n     'city': 'New York',\n     'country': 'United States',\n     'crossStreet': 'Between 6 And 7th Ave',\n     'distance': 333,\n     'formattedAddress': ['124 W 25th St (Between 6 And 7th Ave)',\n      'New York, NY 10001',\n      'United States'],\n     'labeledLatLngs': [{'label': 'display',\n       'lat': 40.744566,\n       'lng': -73.992868}],\n     'lat': 40.744566,\n     'lng': -73.992868,\n     'postalCode': '10001',\n     'state': 'NY'},\n    'name': 'Pisillo, Italian panini',\n    'referralId': 'v-1552503288'},\n   {'categories': [{'icon': {'prefix': 'https://ss3.4sqi.net/img/categories_v2/food/italian_',\n       'suffix': '.png'},\n      'id': '4bf58dd8d48988d110941735',\n      'name': 'Italian Restaurant',\n      'pluralName': 'Italian Restaurants',\n      'primary': True,\n      'shortName': 'Italian'}],\n    'hasPerk': False,\n    'id': '526324c111d238e68dea4efd',\n    'location': {'address': '39 west 24 th street',\n     'cc': 'US',\n     'city': 'New York',\n     'country': 'United States',\n     'crossStreet': 'tra la 5th e la 6th avenue',\n     'distance': 498,\n     'formattedAddress': ['39 west 24 th street (tra la 5th e la 6th avenue)',\n      'New York, NY 10010',\n      'United States'],\n     'labeledLatLngs': [{'label': 'display',\n       'lat': 40.743426782849795,\n       'lng': -73.99104481265644}],\n     'lat': 40.743426782849795,\n     'lng': -73.99104481265644,\n     'postalCode': '10010',\n     'state': 'NY'},\n    'name': 'Tre Stelle Italian Restaurant&Bar',\n    'referralId': 'v-1552503288',\n    'venuePage': {'id': '69667828'}},\n   {'categories': [{'icon': {'prefix': 'https://ss3.4sqi.net/img/categories_v2/food/streetfood_',\n       'suffix': '.png'},\n      'id': '4bf58dd8d48988d1cb941735',\n      'name': 'Food Truck',\n      'pluralName': 'Food Trucks',\n      'primary': True,\n      'shortName': 'Food Truck'}],\n    'hasPerk': False,\n    'id': '5014183ce4b0073bd04161fa',\n    'location': {'cc': 'US',\n     'city': 'New York',\n     'country': 'United States',\n     'distance': 440,\n     'formattedAddress': ['New York, NY 10023', 'United States'],\n     'labeledLatLngs': [{'label': 'display',\n       'lat': 40.74356804811844,\n       'lng': -73.99170041320215}],\n     'lat': 40.74356804811844,\n     'lng': -73.99170041320215,\n     'postalCode': '10023',\n     'state': 'NY'},\n    'name': 'Old Fashioned Hand Made Italian Ice',\n    'referralId': 'v-1552503288'},\n   {'categories': [{'icon': {'prefix': 'https://ss3.4sqi.net/img/categories_v2/food/pizza_',\n       'suffix': '.png'},\n      'id': '4bf58dd8d48988d1ca941735',\n      'name': 'Pizza Place',\n      'pluralName': 'Pizza Places',\n      'primary': True,\n      'shortName': 'Pizza'}],\n    'hasPerk': False,\n    'id': '50393bd2e4b0014516101a0e',\n    'location': {'cc': 'US',\n     'city': 'New York',\n     'country': 'United States',\n     'distance': 462,\n     'formattedAddress': ['New York, NY 10010', 'United States'],\n     'labeledLatLngs': [{'label': 'display',\n       'lat': 40.741749,\n       'lng': -73.992574}],\n     'lat': 40.741749,\n     'lng': -73.992574,\n     'postalCode': '10010',\n     'state': 'NY'},\n    'name': 'Maffel Italian Eatery',\n    'referralId': 'v-1552503288'},\n   {'categories': [{'icon': {'prefix': 'https://ss3.4sqi.net/img/categories_v2/food/deli_',\n       'suffix': '.png'},\n      'id': '4bf58dd8d48988d146941735',\n      'name': 'Deli / Bodega',\n      'pluralName': 'Delis / Bodegas',\n      'primary': True,\n      'shortName': 'Deli / Bodega'}],\n    'delivery': {'id': '340671',\n     'provider': {'icon': {'name': '/delivery_provider_seamless_20180129.png',\n       'prefix': 'https://fastly.4sqi.net/img/general/cap/',\n       'sizes': [40, 50]},\n      'name': 'seamless'},\n     'url': 'https://www.seamless.com/menu/salumeria-biellese-delicatessen-378-8th-ave-new-york/340671?affiliate=1131&utm_source=foursquare-affiliate-network&utm_medium=affiliate&utm_campaign=1131&utm_content=340671'},\n    'hasPerk': False,\n    'id': '4a71be2bf964a52070d91fe3',\n    'location': {'address': '378 8th Ave',\n     'cc': 'US',\n     'city': 'New York',\n     'country': 'United States',\n     'crossStreet': 'W 29th St',\n     'distance': 533,\n     'formattedAddress': ['378 8th Ave (W 29th St)',\n      'New York, NY 10001',\n      'United States'],\n     'labeledLatLngs': [{'label': 'display',\n       'lat': 40.749081321496135,\n       'lng': -73.9956062591867}],\n     'lat': 40.749081321496135,\n     'lng': -73.9956062591867,\n     'postalCode': '10001',\n     'state': 'NY'},\n    'name': 'Salumeria Biellese Delicatessen',\n    'referralId': 'v-1552503288'},\n   {'categories': [{'icon': {'prefix': 'https://ss3.4sqi.net/img/categories_v2/food/italian_',\n       'suffix': '.png'},\n      'id': '4bf58dd8d48988d110941735',\n      'name': 'Italian Restaurant',\n      'pluralName': 'Italian Restaurants',\n      'primary': True,\n      'shortName': 'Italian'}],\n    'delivery': {'id': '346976',\n     'provider': {'icon': {'name': '/delivery_provider_seamless_20180129.png',\n       'prefix': 'https://fastly.4sqi.net/img/general/cap/',\n       'sizes': [40, 50]},\n      'name': 'seamless'},\n     'url': 'https://www.seamless.com/menu/biricchino-260-w-29th-st-new-york/346976?affiliate=1131&utm_source=foursquare-affiliate-network&utm_medium=affiliate&utm_campaign=1131&utm_content=346976'},\n    'hasPerk': False,\n    'id': '4af4b9adf964a52074f521e3',\n    'location': {'address': '260 W 29th St',\n     'cc': 'US',\n     'city': 'New York',\n     'country': 'United States',\n     'crossStreet': 'at 8th Ave.',\n     'distance': 513,\n     'formattedAddress': ['260 W 29th St (at 8th Ave.)',\n      'New York, NY 10001',\n      'United States'],\n     'labeledLatLngs': [{'label': 'display',\n       'lat': 40.74887439608574,\n       'lng': -73.9954686909914}],\n     'lat': 40.74887439608574,\n     'lng': -73.9954686909914,\n     'postalCode': '10001',\n     'state': 'NY'},\n    'name': 'biricchino',\n    'referralId': 'v-1552503288',\n    'venuePage': {'id': '446832385'}},\n   {'categories': [{'icon': {'prefix': 'https://ss3.4sqi.net/img/categories_v2/food/italian_',\n       'suffix': '.png'},\n      'id': '4bf58dd8d48988d110941735',\n      'name': 'Italian Restaurant',\n      'pluralName': 'Italian Restaurants',\n      'primary': True,\n      'shortName': 'Italian'}],\n    'hasPerk': False,\n    'id': '4b0af88cf964a520e22a23e3',\n    'location': {'address': '512 Fashion Ave',\n     'cc': 'US',\n     'city': 'New York',\n     'country': 'United States',\n     'crossStreet': 'W 38th St',\n     'distance': 351,\n     'formattedAddress': ['512 Fashion Ave (W 38th St)',\n      'New York, NY 10018',\n      'United States'],\n     'labeledLatLngs': [{'label': 'display',\n       'lat': 40.744667,\n       'lng': -74.000964}],\n     'lat': 40.744667,\n     'lng': -74.000964,\n     'postalCode': '10018',\n     'state': 'NY'},\n    'name': 'La Cucina Italiana',\n    'referralId': 'v-1552503288'},\n   {'categories': [{'icon': {'prefix': 'https://ss3.4sqi.net/img/categories_v2/nightlife/pub_',\n       'suffix': '.png'},\n      'id': '4bf58dd8d48988d116941735',\n      'name': 'Bar',\n      'pluralName': 'Bars',\n      'primary': True,\n      'shortName': 'Bar'}],\n    'hasPerk': False,\n    'id': '50525bc5e4b0c099ebc88888',\n    'location': {'address': '39 W 24 ST, Tre Stelle Restaurant & Bar',\n     'cc': 'US',\n     'city': 'New York',\n     'country': 'United States',\n     'crossStreet': 'at 6th Ave',\n     'distance': 489,\n     'formattedAddress': ['39 W 24 ST, Tre Stelle Restaurant & Bar (at 6th Ave)',\n      'New York, NY 10010',\n      'United States'],\n     'labeledLatLngs': [{'label': 'display',\n       'lat': 40.74330890909256,\n       'lng': -73.9911907231385}],\n     'lat': 40.74330890909256,\n     'lng': -73.9911907231385,\n     'postalCode': '10010',\n     'state': 'NY'},\n    'name': 'Tre Stelle',\n    'referralId': 'v-1552503288',\n    'venuePage': {'id': '88591884'}}]}}"
                    }, 
                    "output_type": "execute_result"
                }
            ], 
            "source": "# Send the GET Request\nresults = requests.get(url).json()\nresults"
        }, 
        {
            "execution_count": 40, 
            "cell_type": "code", 
            "metadata": {}, 
            "outputs": [
                {
                    "execution_count": 40, 
                    "metadata": {}, 
                    "data": {
                        "text/html": "<div>\n<style scoped>\n    .dataframe tbody tr th:only-of-type {\n        vertical-align: middle;\n    }\n\n    .dataframe tbody tr th {\n        vertical-align: top;\n    }\n\n    .dataframe thead th {\n        text-align: right;\n    }\n</style>\n<table border=\"1\" class=\"dataframe\">\n  <thead>\n    <tr style=\"text-align: right;\">\n      <th></th>\n      <th>categories</th>\n      <th>delivery.id</th>\n      <th>delivery.provider.icon.name</th>\n      <th>delivery.provider.icon.prefix</th>\n      <th>delivery.provider.icon.sizes</th>\n      <th>delivery.provider.name</th>\n      <th>delivery.url</th>\n      <th>hasPerk</th>\n      <th>id</th>\n      <th>location.address</th>\n      <th>...</th>\n      <th>location.distance</th>\n      <th>location.formattedAddress</th>\n      <th>location.labeledLatLngs</th>\n      <th>location.lat</th>\n      <th>location.lng</th>\n      <th>location.postalCode</th>\n      <th>location.state</th>\n      <th>name</th>\n      <th>referralId</th>\n      <th>venuePage.id</th>\n    </tr>\n  </thead>\n  <tbody>\n    <tr>\n      <th>0</th>\n      <td>[{'icon': {'prefix': 'https://ss3.4sqi.net/img...</td>\n      <td>NaN</td>\n      <td>NaN</td>\n      <td>NaN</td>\n      <td>NaN</td>\n      <td>NaN</td>\n      <td>NaN</td>\n      <td>False</td>\n      <td>4a85a9e7f964a520d3fe1fe3</td>\n      <td>W 18th St</td>\n      <td>...</td>\n      <td>108</td>\n      <td>[W 18th St (8th Ave), New York, NY 10011, Unit...</td>\n      <td>[{'lng': -73.9980991642575, 'label': 'display'...</td>\n      <td>40.744268</td>\n      <td>-73.998099</td>\n      <td>10011</td>\n      <td>NY</td>\n      <td>Italian Ice Cart</td>\n      <td>v-1552503288</td>\n      <td>NaN</td>\n    </tr>\n    <tr>\n      <th>1</th>\n      <td>[{'icon': {'prefix': 'https://ss3.4sqi.net/img...</td>\n      <td>NaN</td>\n      <td>NaN</td>\n      <td>NaN</td>\n      <td>NaN</td>\n      <td>NaN</td>\n      <td>NaN</td>\n      <td>False</td>\n      <td>59cbe33b50a6f0209c7b52c4</td>\n      <td>344 8th Ave</td>\n      <td>...</td>\n      <td>332</td>\n      <td>[344 8th Ave (26th &amp; 27th  Sts), New York, NY ...</td>\n      <td>[{'lng': -73.996907, 'label': 'display', 'lat'...</td>\n      <td>40.747358</td>\n      <td>-73.996907</td>\n      <td>10001</td>\n      <td>NY</td>\n      <td>Claudio Italian Restaurant</td>\n      <td>v-1552503288</td>\n      <td>NaN</td>\n    </tr>\n    <tr>\n      <th>2</th>\n      <td>[{'icon': {'prefix': 'https://ss3.4sqi.net/img...</td>\n      <td>NaN</td>\n      <td>NaN</td>\n      <td>NaN</td>\n      <td>NaN</td>\n      <td>NaN</td>\n      <td>NaN</td>\n      <td>False</td>\n      <td>5c893ef0d8096e0039e7363b</td>\n      <td>124 W 25th St</td>\n      <td>...</td>\n      <td>333</td>\n      <td>[124 W 25th St (Between 6 And 7th Ave), New Yo...</td>\n      <td>[{'lng': -73.992868, 'label': 'display', 'lat'...</td>\n      <td>40.744566</td>\n      <td>-73.992868</td>\n      <td>10001</td>\n      <td>NY</td>\n      <td>Pisillo, Italian panini</td>\n      <td>v-1552503288</td>\n      <td>NaN</td>\n    </tr>\n    <tr>\n      <th>3</th>\n      <td>[{'icon': {'prefix': 'https://ss3.4sqi.net/img...</td>\n      <td>NaN</td>\n      <td>NaN</td>\n      <td>NaN</td>\n      <td>NaN</td>\n      <td>NaN</td>\n      <td>NaN</td>\n      <td>False</td>\n      <td>526324c111d238e68dea4efd</td>\n      <td>39 west 24 th street</td>\n      <td>...</td>\n      <td>498</td>\n      <td>[39 west 24 th street (tra la 5th e la 6th ave...</td>\n      <td>[{'lng': -73.99104481265644, 'label': 'display...</td>\n      <td>40.743427</td>\n      <td>-73.991045</td>\n      <td>10010</td>\n      <td>NY</td>\n      <td>Tre Stelle Italian Restaurant&amp;Bar</td>\n      <td>v-1552503288</td>\n      <td>69667828</td>\n    </tr>\n    <tr>\n      <th>4</th>\n      <td>[{'icon': {'prefix': 'https://ss3.4sqi.net/img...</td>\n      <td>NaN</td>\n      <td>NaN</td>\n      <td>NaN</td>\n      <td>NaN</td>\n      <td>NaN</td>\n      <td>NaN</td>\n      <td>False</td>\n      <td>5014183ce4b0073bd04161fa</td>\n      <td>NaN</td>\n      <td>...</td>\n      <td>440</td>\n      <td>[New York, NY 10023, United States]</td>\n      <td>[{'lng': -73.99170041320215, 'label': 'display...</td>\n      <td>40.743568</td>\n      <td>-73.991700</td>\n      <td>10023</td>\n      <td>NY</td>\n      <td>Old Fashioned Hand Made Italian Ice</td>\n      <td>v-1552503288</td>\n      <td>NaN</td>\n    </tr>\n  </tbody>\n</table>\n<p>5 rows \u00d7 24 columns</p>\n</div>", 
                        "text/plain": "                                          categories delivery.id  \\\n0  [{'icon': {'prefix': 'https://ss3.4sqi.net/img...         NaN   \n1  [{'icon': {'prefix': 'https://ss3.4sqi.net/img...         NaN   \n2  [{'icon': {'prefix': 'https://ss3.4sqi.net/img...         NaN   \n3  [{'icon': {'prefix': 'https://ss3.4sqi.net/img...         NaN   \n4  [{'icon': {'prefix': 'https://ss3.4sqi.net/img...         NaN   \n\n  delivery.provider.icon.name delivery.provider.icon.prefix  \\\n0                         NaN                           NaN   \n1                         NaN                           NaN   \n2                         NaN                           NaN   \n3                         NaN                           NaN   \n4                         NaN                           NaN   \n\n  delivery.provider.icon.sizes delivery.provider.name delivery.url  hasPerk  \\\n0                          NaN                    NaN          NaN    False   \n1                          NaN                    NaN          NaN    False   \n2                          NaN                    NaN          NaN    False   \n3                          NaN                    NaN          NaN    False   \n4                          NaN                    NaN          NaN    False   \n\n                         id      location.address     ...       \\\n0  4a85a9e7f964a520d3fe1fe3             W 18th St     ...        \n1  59cbe33b50a6f0209c7b52c4           344 8th Ave     ...        \n2  5c893ef0d8096e0039e7363b         124 W 25th St     ...        \n3  526324c111d238e68dea4efd  39 west 24 th street     ...        \n4  5014183ce4b0073bd04161fa                   NaN     ...        \n\n  location.distance                          location.formattedAddress  \\\n0               108  [W 18th St (8th Ave), New York, NY 10011, Unit...   \n1               332  [344 8th Ave (26th & 27th  Sts), New York, NY ...   \n2               333  [124 W 25th St (Between 6 And 7th Ave), New Yo...   \n3               498  [39 west 24 th street (tra la 5th e la 6th ave...   \n4               440                [New York, NY 10023, United States]   \n\n                             location.labeledLatLngs location.lat  \\\n0  [{'lng': -73.9980991642575, 'label': 'display'...    40.744268   \n1  [{'lng': -73.996907, 'label': 'display', 'lat'...    40.747358   \n2  [{'lng': -73.992868, 'label': 'display', 'lat'...    40.744566   \n3  [{'lng': -73.99104481265644, 'label': 'display...    40.743427   \n4  [{'lng': -73.99170041320215, 'label': 'display...    40.743568   \n\n   location.lng location.postalCode location.state  \\\n0    -73.998099               10011             NY   \n1    -73.996907               10001             NY   \n2    -73.992868               10001             NY   \n3    -73.991045               10010             NY   \n4    -73.991700               10023             NY   \n\n                                  name    referralId venuePage.id  \n0                     Italian Ice Cart  v-1552503288          NaN  \n1           Claudio Italian Restaurant  v-1552503288          NaN  \n2              Pisillo, Italian panini  v-1552503288          NaN  \n3    Tre Stelle Italian Restaurant&Bar  v-1552503288     69667828  \n4  Old Fashioned Hand Made Italian Ice  v-1552503288          NaN  \n\n[5 rows x 24 columns]"
                    }, 
                    "output_type": "execute_result"
                }
            ], 
            "source": "# Transform JSON into a pandas dataframe\nvenues = results['response']['venues']\ndf = json_normalize(venues)\ndf.head()"
        }, 
        {
            "source": "### Filter datafram for information of interest", 
            "cell_type": "markdown", 
            "metadata": {}
        }, 
        {
            "execution_count": 42, 
            "cell_type": "code", 
            "metadata": {}, 
            "outputs": [
                {
                    "execution_count": 42, 
                    "metadata": {}, 
                    "data": {
                        "text/html": "<div>\n<style scoped>\n    .dataframe tbody tr th:only-of-type {\n        vertical-align: middle;\n    }\n\n    .dataframe tbody tr th {\n        vertical-align: top;\n    }\n\n    .dataframe thead th {\n        text-align: right;\n    }\n</style>\n<table border=\"1\" class=\"dataframe\">\n  <thead>\n    <tr style=\"text-align: right;\">\n      <th></th>\n      <th>name</th>\n      <th>categories</th>\n      <th>address</th>\n      <th>cc</th>\n      <th>city</th>\n      <th>country</th>\n      <th>crossStreet</th>\n      <th>distance</th>\n      <th>formattedAddress</th>\n      <th>labeledLatLngs</th>\n      <th>lat</th>\n      <th>lng</th>\n      <th>postalCode</th>\n      <th>state</th>\n      <th>id</th>\n    </tr>\n  </thead>\n  <tbody>\n    <tr>\n      <th>0</th>\n      <td>Italian Ice Cart</td>\n      <td>Food Truck</td>\n      <td>W 18th St</td>\n      <td>US</td>\n      <td>New York</td>\n      <td>United States</td>\n      <td>8th Ave</td>\n      <td>108</td>\n      <td>[W 18th St (8th Ave), New York, NY 10011, Unit...</td>\n      <td>[{'lng': -73.9980991642575, 'label': 'display'...</td>\n      <td>40.744268</td>\n      <td>-73.998099</td>\n      <td>10011</td>\n      <td>NY</td>\n      <td>4a85a9e7f964a520d3fe1fe3</td>\n    </tr>\n    <tr>\n      <th>1</th>\n      <td>Claudio Italian Restaurant</td>\n      <td>Pizza Place</td>\n      <td>344 8th Ave</td>\n      <td>US</td>\n      <td>New York</td>\n      <td>United States</td>\n      <td>26th &amp; 27th  Sts</td>\n      <td>332</td>\n      <td>[344 8th Ave (26th &amp; 27th  Sts), New York, NY ...</td>\n      <td>[{'lng': -73.996907, 'label': 'display', 'lat'...</td>\n      <td>40.747358</td>\n      <td>-73.996907</td>\n      <td>10001</td>\n      <td>NY</td>\n      <td>59cbe33b50a6f0209c7b52c4</td>\n    </tr>\n    <tr>\n      <th>2</th>\n      <td>Pisillo, Italian panini</td>\n      <td>Sandwich Place</td>\n      <td>124 W 25th St</td>\n      <td>US</td>\n      <td>New York</td>\n      <td>United States</td>\n      <td>Between 6 And 7th Ave</td>\n      <td>333</td>\n      <td>[124 W 25th St (Between 6 And 7th Ave), New Yo...</td>\n      <td>[{'lng': -73.992868, 'label': 'display', 'lat'...</td>\n      <td>40.744566</td>\n      <td>-73.992868</td>\n      <td>10001</td>\n      <td>NY</td>\n      <td>5c893ef0d8096e0039e7363b</td>\n    </tr>\n    <tr>\n      <th>3</th>\n      <td>Tre Stelle Italian Restaurant&amp;Bar</td>\n      <td>Italian Restaurant</td>\n      <td>39 west 24 th street</td>\n      <td>US</td>\n      <td>New York</td>\n      <td>United States</td>\n      <td>tra la 5th e la 6th avenue</td>\n      <td>498</td>\n      <td>[39 west 24 th street (tra la 5th e la 6th ave...</td>\n      <td>[{'lng': -73.99104481265644, 'label': 'display...</td>\n      <td>40.743427</td>\n      <td>-73.991045</td>\n      <td>10010</td>\n      <td>NY</td>\n      <td>526324c111d238e68dea4efd</td>\n    </tr>\n    <tr>\n      <th>4</th>\n      <td>Old Fashioned Hand Made Italian Ice</td>\n      <td>Food Truck</td>\n      <td>NaN</td>\n      <td>US</td>\n      <td>New York</td>\n      <td>United States</td>\n      <td>NaN</td>\n      <td>440</td>\n      <td>[New York, NY 10023, United States]</td>\n      <td>[{'lng': -73.99170041320215, 'label': 'display...</td>\n      <td>40.743568</td>\n      <td>-73.991700</td>\n      <td>10023</td>\n      <td>NY</td>\n      <td>5014183ce4b0073bd04161fa</td>\n    </tr>\n    <tr>\n      <th>5</th>\n      <td>Maffel Italian Eatery</td>\n      <td>Pizza Place</td>\n      <td>NaN</td>\n      <td>US</td>\n      <td>New York</td>\n      <td>United States</td>\n      <td>NaN</td>\n      <td>462</td>\n      <td>[New York, NY 10010, United States]</td>\n      <td>[{'lng': -73.992574, 'label': 'display', 'lat'...</td>\n      <td>40.741749</td>\n      <td>-73.992574</td>\n      <td>10010</td>\n      <td>NY</td>\n      <td>50393bd2e4b0014516101a0e</td>\n    </tr>\n    <tr>\n      <th>6</th>\n      <td>Salumeria Biellese Delicatessen</td>\n      <td>Deli / Bodega</td>\n      <td>378 8th Ave</td>\n      <td>US</td>\n      <td>New York</td>\n      <td>United States</td>\n      <td>W 29th St</td>\n      <td>533</td>\n      <td>[378 8th Ave (W 29th St), New York, NY 10001, ...</td>\n      <td>[{'lng': -73.9956062591867, 'label': 'display'...</td>\n      <td>40.749081</td>\n      <td>-73.995606</td>\n      <td>10001</td>\n      <td>NY</td>\n      <td>4a71be2bf964a52070d91fe3</td>\n    </tr>\n    <tr>\n      <th>7</th>\n      <td>biricchino</td>\n      <td>Italian Restaurant</td>\n      <td>260 W 29th St</td>\n      <td>US</td>\n      <td>New York</td>\n      <td>United States</td>\n      <td>at 8th Ave.</td>\n      <td>513</td>\n      <td>[260 W 29th St (at 8th Ave.), New York, NY 100...</td>\n      <td>[{'lng': -73.9954686909914, 'label': 'display'...</td>\n      <td>40.748874</td>\n      <td>-73.995469</td>\n      <td>10001</td>\n      <td>NY</td>\n      <td>4af4b9adf964a52074f521e3</td>\n    </tr>\n    <tr>\n      <th>8</th>\n      <td>La Cucina Italiana</td>\n      <td>Italian Restaurant</td>\n      <td>512 Fashion Ave</td>\n      <td>US</td>\n      <td>New York</td>\n      <td>United States</td>\n      <td>W 38th St</td>\n      <td>351</td>\n      <td>[512 Fashion Ave (W 38th St), New York, NY 100...</td>\n      <td>[{'lng': -74.000964, 'label': 'display', 'lat'...</td>\n      <td>40.744667</td>\n      <td>-74.000964</td>\n      <td>10018</td>\n      <td>NY</td>\n      <td>4b0af88cf964a520e22a23e3</td>\n    </tr>\n    <tr>\n      <th>9</th>\n      <td>Tre Stelle</td>\n      <td>Bar</td>\n      <td>39 W 24 ST, Tre Stelle Restaurant &amp; Bar</td>\n      <td>US</td>\n      <td>New York</td>\n      <td>United States</td>\n      <td>at 6th Ave</td>\n      <td>489</td>\n      <td>[39 W 24 ST, Tre Stelle Restaurant &amp; Bar (at 6...</td>\n      <td>[{'lng': -73.9911907231385, 'label': 'display'...</td>\n      <td>40.743309</td>\n      <td>-73.991191</td>\n      <td>10010</td>\n      <td>NY</td>\n      <td>50525bc5e4b0c099ebc88888</td>\n    </tr>\n  </tbody>\n</table>\n</div>", 
                        "text/plain": "                                  name          categories  \\\n0                     Italian Ice Cart          Food Truck   \n1           Claudio Italian Restaurant         Pizza Place   \n2              Pisillo, Italian panini      Sandwich Place   \n3    Tre Stelle Italian Restaurant&Bar  Italian Restaurant   \n4  Old Fashioned Hand Made Italian Ice          Food Truck   \n5                Maffel Italian Eatery         Pizza Place   \n6      Salumeria Biellese Delicatessen       Deli / Bodega   \n7                           biricchino  Italian Restaurant   \n8                   La Cucina Italiana  Italian Restaurant   \n9                           Tre Stelle                 Bar   \n\n                                   address  cc      city        country  \\\n0                                W 18th St  US  New York  United States   \n1                              344 8th Ave  US  New York  United States   \n2                            124 W 25th St  US  New York  United States   \n3                     39 west 24 th street  US  New York  United States   \n4                                      NaN  US  New York  United States   \n5                                      NaN  US  New York  United States   \n6                              378 8th Ave  US  New York  United States   \n7                            260 W 29th St  US  New York  United States   \n8                          512 Fashion Ave  US  New York  United States   \n9  39 W 24 ST, Tre Stelle Restaurant & Bar  US  New York  United States   \n\n                  crossStreet  distance  \\\n0                     8th Ave       108   \n1            26th & 27th  Sts       332   \n2       Between 6 And 7th Ave       333   \n3  tra la 5th e la 6th avenue       498   \n4                         NaN       440   \n5                         NaN       462   \n6                   W 29th St       533   \n7                 at 8th Ave.       513   \n8                   W 38th St       351   \n9                  at 6th Ave       489   \n\n                                    formattedAddress  \\\n0  [W 18th St (8th Ave), New York, NY 10011, Unit...   \n1  [344 8th Ave (26th & 27th  Sts), New York, NY ...   \n2  [124 W 25th St (Between 6 And 7th Ave), New Yo...   \n3  [39 west 24 th street (tra la 5th e la 6th ave...   \n4                [New York, NY 10023, United States]   \n5                [New York, NY 10010, United States]   \n6  [378 8th Ave (W 29th St), New York, NY 10001, ...   \n7  [260 W 29th St (at 8th Ave.), New York, NY 100...   \n8  [512 Fashion Ave (W 38th St), New York, NY 100...   \n9  [39 W 24 ST, Tre Stelle Restaurant & Bar (at 6...   \n\n                                      labeledLatLngs        lat        lng  \\\n0  [{'lng': -73.9980991642575, 'label': 'display'...  40.744268 -73.998099   \n1  [{'lng': -73.996907, 'label': 'display', 'lat'...  40.747358 -73.996907   \n2  [{'lng': -73.992868, 'label': 'display', 'lat'...  40.744566 -73.992868   \n3  [{'lng': -73.99104481265644, 'label': 'display...  40.743427 -73.991045   \n4  [{'lng': -73.99170041320215, 'label': 'display...  40.743568 -73.991700   \n5  [{'lng': -73.992574, 'label': 'display', 'lat'...  40.741749 -73.992574   \n6  [{'lng': -73.9956062591867, 'label': 'display'...  40.749081 -73.995606   \n7  [{'lng': -73.9954686909914, 'label': 'display'...  40.748874 -73.995469   \n8  [{'lng': -74.000964, 'label': 'display', 'lat'...  40.744667 -74.000964   \n9  [{'lng': -73.9911907231385, 'label': 'display'...  40.743309 -73.991191   \n\n  postalCode state                        id  \n0      10011    NY  4a85a9e7f964a520d3fe1fe3  \n1      10001    NY  59cbe33b50a6f0209c7b52c4  \n2      10001    NY  5c893ef0d8096e0039e7363b  \n3      10010    NY  526324c111d238e68dea4efd  \n4      10023    NY  5014183ce4b0073bd04161fa  \n5      10010    NY  50393bd2e4b0014516101a0e  \n6      10001    NY  4a71be2bf964a52070d91fe3  \n7      10001    NY  4af4b9adf964a52074f521e3  \n8      10018    NY  4b0af88cf964a520e22a23e3  \n9      10010    NY  50525bc5e4b0c099ebc88888  "
                    }, 
                    "output_type": "execute_result"
                }
            ], 
            "source": "# keep only columns that include venue name, and anything that is associated with location\nfiltered_columns = ['name', 'categories'] + [col for col in df.columns if col.startswith('location.')] + ['id']\nfiltered_df = df.loc[:, filtered_columns]\n\n# function that extracts the category of the venue\ndef get_category_type(row):\n    try:\n        categories_list = row['categories']\n    except:\n        categories_list = row['venue.categories']\n        \n    if len(categories_list) == 0:\n        return None\n    else:\n        return categories_list[0]['name']\n\n# filter the category for each row\nfiltered_df['categories'] = filtered_df.apply(get_category_type, axis=1)\n\n# clean column names by keeping only last term\nfiltered_df.columns = [column.split('.')[-1] for column in filtered_df.columns]\n\nfiltered_df"
        }, 
        {
            "execution_count": 43, 
            "cell_type": "code", 
            "metadata": {}, 
            "outputs": [
                {
                    "execution_count": 43, 
                    "metadata": {}, 
                    "data": {
                        "text/plain": "0                       Italian Ice Cart\n1             Claudio Italian Restaurant\n2                Pisillo, Italian panini\n3      Tre Stelle Italian Restaurant&Bar\n4    Old Fashioned Hand Made Italian Ice\n5                  Maffel Italian Eatery\n6        Salumeria Biellese Delicatessen\n7                             biricchino\n8                     La Cucina Italiana\n9                             Tre Stelle\nName: name, dtype: object"
                    }, 
                    "output_type": "execute_result"
                }
            ], 
            "source": "# See the names of the restaurants nearby\nfiltered_df.name"
        }, 
        {
            "execution_count": null, 
            "cell_type": "code", 
            "metadata": {}, 
            "outputs": [], 
            "source": ""
        }
    ], 
    "metadata": {
        "kernelspec": {
            "display_name": "Python 3.5", 
            "name": "python3", 
            "language": "python"
        }, 
        "language_info": {
            "mimetype": "text/x-python", 
            "nbconvert_exporter": "python", 
            "version": "3.5.5", 
            "name": "python", 
            "file_extension": ".py", 
            "pygments_lexer": "ipython3", 
            "codemirror_mode": {
                "version": 3, 
                "name": "ipython"
            }
        }
    }, 
    "nbformat": 4
}